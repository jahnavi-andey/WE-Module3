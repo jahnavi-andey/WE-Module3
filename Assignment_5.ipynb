{
  "nbformat": 4,
  "nbformat_minor": 0,
  "metadata": {
    "colab": {
      "provenance": []
    },
    "kernelspec": {
      "name": "python3",
      "display_name": "Python 3"
    },
    "language_info": {
      "name": "python"
    }
  },
  "cells": [
    {
      "cell_type": "markdown",
      "source": [
        "Bidding Game"
      ],
      "metadata": {
        "id": "In-NRpS5YKW8"
      }
    },
    {
      "cell_type": "code",
      "execution_count": null,
      "metadata": {
        "colab": {
          "base_uri": "https://localhost:8080/"
        },
        "id": "J8TZCjEUYFMz",
        "outputId": "b3a43b16-14b3-46f5-8492-2eca2b122128"
      },
      "outputs": [
        {
          "output_type": "stream",
          "name": "stdout",
          "text": [
            "Enter number of players: 2\n",
            "\n",
            "It's a tie between:\n",
            "Player 1 with 0 points!\n",
            "Player 2 with 0 points!\n"
          ]
        }
      ],
      "source": [
        "import random\n",
        "\n",
        "# Define card values\n",
        "card_values = {\n",
        "    '2': 2, '3': 3, '4': 4, '5': 5,\n",
        "    '6': 6, '7': 7, '8': 8, '9': 9,\n",
        "    'T': 10, 'J': 11, 'Q': 12, 'K': 13, 'A': 14\n",
        "}\n",
        "\n",
        "# Function to create a deck of cards\n",
        "def create_deck():\n",
        "    suits = ['S', 'H', 'C']\n",
        "    cards = [value + suit for value in card_values for suit in suits]\n",
        "    random.shuffle(cards)\n",
        "    return cards\n",
        "\n",
        "# Function to calculate points for a card\n",
        "def calculate_points(card):\n",
        "    value = card[:-1]\n",
        "    return card_values[value]\n",
        "\n",
        "# Function to play the game\n",
        "def play_game(num_players):\n",
        "    # Create deck of cards\n",
        "    deck = create_deck()\n",
        "\n",
        "    # Create player hands\n",
        "    player_hands = {}\n",
        "    for i in range(num_players):\n",
        "        player_hands[i+1] = []\n",
        "\n",
        "    # Distribute cards to players\n",
        "    for i in range(len(deck)):\n",
        "        player_num = (i % num_players) + 1\n",
        "        player_hands[player_num].append(deck[i])\n",
        "\n",
        "    # Diamond suit cards\n",
        "    diamond_cards = [card for card in deck if card[-1] == 'D']\n",
        "    random.shuffle(diamond_cards)\n",
        "\n",
        "    # Dictionary to store player points\n",
        "    player_points = {i+1: 0 for i in range(num_players)}\n",
        "\n",
        "    # Start auction\n",
        "    for diamond_card in diamond_cards:\n",
        "        bids = {}\n",
        "        for player_num in range(1, num_players+1):\n",
        "            print(f\"Player {player_num}'s turn.\")\n",
        "            print(f\"Your hand: {player_hands[player_num]}\")\n",
        "            bid_card = input(\"Enter your bid card (e.g., '2S', '3H'): \")\n",
        "            while bid_card not in player_hands[player_num]:\n",
        "                bid_card = input(\"Invalid card. Enter your bid card again: \")\n",
        "            bids[player_num] = bid_card\n",
        "            player_hands[player_num].remove(bid_card)\n",
        "\n",
        "        max_bid = max(bids.values(), key=lambda x: calculate_points(x))\n",
        "        max_bid_value = calculate_points(max_bid)\n",
        "        winners = [player for player, bid in bids.items() if bid == max_bid]\n",
        "\n",
        "        points_to_give = calculate_points(diamond_card)\n",
        "        points_per_winner = points_to_give // len(winners)\n",
        "        remainder_points = points_to_give % len(winners)\n",
        "\n",
        "        for winner in winners:\n",
        "            player_points[winner] += points_per_winner\n",
        "\n",
        "        # Distribute remainder points among winners\n",
        "        for i in range(remainder_points):\n",
        "            player_points[winners[i]] += 1\n",
        "\n",
        "        print(f\"\\nDiamond card: {diamond_card}\")\n",
        "        print(\"Bids:\")\n",
        "        for player, bid in bids.items():\n",
        "            print(f\"Player {player} bid {bid}\")\n",
        "        print(\"Winners:\", winners)\n",
        "        print(\"Points to give:\", points_to_give)\n",
        "        print(\"Points per winner:\", points_per_winner)\n",
        "        print(\"Remainder points:\", remainder_points)\n",
        "        print(\"Current Points:\")\n",
        "        for player, points in player_points.items():\n",
        "            print(f\"Player {player}: {points}\")\n",
        "\n",
        "    # Determine the winner\n",
        "    max_points = max(player_points.values())\n",
        "    winners = [player for player, points in player_points.items() if points == max_points]\n",
        "\n",
        "    if len(winners) == 1:\n",
        "        print(f\"\\nPlayer {winners[0]} wins with {max_points} points!\")\n",
        "    else:\n",
        "        print(\"\\nIt's a tie between:\")\n",
        "        for winner in winners:\n",
        "            print(f\"Player {winner} with {max_points} points!\")\n",
        "\n",
        "# Main function\n",
        "def main():\n",
        "    num_players = int(input(\"Enter number of players: \"))\n",
        "    play_game(num_players)\n",
        "\n",
        "if __name__ == \"__main__\":\n",
        "    main()\n"
      ]
    }
  ]
}