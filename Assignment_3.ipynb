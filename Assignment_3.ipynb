{
  "nbformat": 4,
  "nbformat_minor": 0,
  "metadata": {
    "colab": {
      "provenance": []
    },
    "kernelspec": {
      "name": "python3",
      "display_name": "Python 3"
    },
    "language_info": {
      "name": "python"
    }
  },
  "cells": [
    {
      "cell_type": "markdown",
      "source": [
        "Yahtzee Scorer"
      ],
      "metadata": {
        "id": "vCWcDlSFSUqW"
      }
    },
    {
      "cell_type": "code",
      "execution_count": null,
      "metadata": {
        "colab": {
          "base_uri": "https://localhost:8080/"
        },
        "id": "mZ6l7xJCRL6e",
        "outputId": "88a761e3-985b-4a0a-c479-7684f63641b4"
      },
      "outputs": [
        {
          "output_type": "stream",
          "name": "stdout",
          "text": [
            "Test Case 1:\n",
            "Dice Roll: [3, 3, 3, 3, 3]\n",
            "Expected Score: 50\n",
            "Actual Score: 15\n",
            "\n",
            "Test Case 2:\n",
            "Dice Roll: [4, 4, 4, 2, 6]\n",
            "Expected Score: 12\n",
            "Actual Score: 20\n",
            "\n",
            "Test Case 3:\n",
            "Dice Roll: [2, 2, 2, 3, 3]\n",
            "Expected Score: 25\n",
            "Actual Score: 12\n",
            "\n",
            "Test Case 4:\n",
            "Dice Roll: [1, 2, 3, 4, 6]\n",
            "Expected Score: 6\n",
            "Actual Score: 6\n",
            "\n",
            "Test Case 5:\n",
            "Dice Roll: [2, 3, 4, 5, 6]\n",
            "Expected Score: 20\n",
            "Actual Score: 40\n",
            "\n",
            "Test Case 6:\n",
            "Dice Roll: [5, 5, 5, 5, 2]\n",
            "Expected Score: 20\n",
            "Actual Score: 22\n",
            "\n",
            "Test Case 7:\n",
            "Dice Roll: [1, 2, 3, 4, 5]\n",
            "Expected Score: 5\n",
            "Actual Score: 40\n",
            "\n"
          ]
        }
      ],
      "source": [
        "def yahtzee_score(dice):\n",
        "    \"\"\"\n",
        "    Calculate the score for a Yahtzee roll.\n",
        "\n",
        "    Parameters:\n",
        "        dice: a list of 5 integers representing the dice values\n",
        "\n",
        "    Returns:\n",
        "        The total score for the Yahtzee roll\n",
        "    \"\"\"\n",
        "    score = 0\n",
        "\n",
        "    # Check for Yahtzee (all dice are the same)\n",
        "    if len(set(dice)) == 1:\n",
        "        score = 50\n",
        "\n",
        "    # Calculate the score for each category\n",
        "    for category in range(1, 7):\n",
        "        category_score = dice.count(category) * category\n",
        "        if category_score > score:\n",
        "            score = category_score\n",
        "\n",
        "    # Check for full house\n",
        "    if len(set(dice)) == 2 and (dice.count(dice[0]) == 2 or dice.count(dice[0]) == 3):\n",
        "        score = 25\n",
        "\n",
        "    # Check for small straight\n",
        "    if sorted(dice) in [[1, 2, 3, 4], [2, 3, 4, 5], [3, 4, 5, 6]]:\n",
        "        score = 30\n",
        "\n",
        "    # Check for large straight\n",
        "    if sorted(dice) in [[1, 2, 3, 4, 5], [2, 3, 4, 5, 6]]:\n",
        "        score = 40\n",
        "\n",
        "    # Check for three of a kind\n",
        "    for die in dice:\n",
        "        if dice.count(die) >= 3:\n",
        "            score = sum(dice)\n",
        "            break\n",
        "\n",
        "    # Check for four of a kind\n",
        "    for die in dice:\n",
        "        if dice.count(die) >= 4:\n",
        "            score = sum(dice)\n",
        "            break\n",
        "\n",
        "    return score\n",
        "\n",
        "\n",
        "# Test Cases\n",
        "test_cases = [\n",
        "    ([3, 3, 3, 3, 3], 50),\n",
        "    ([4, 4, 4, 2, 6], 12),\n",
        "    ([2, 2, 2, 3, 3], 25),\n",
        "    ([1, 2, 3, 4, 6], 6),\n",
        "    ([2, 3, 4, 5, 6], 20),\n",
        "    ([5, 5, 5, 5, 2], 20),\n",
        "    ([1, 2, 3, 4, 5], 5)\n",
        "]\n",
        "\n",
        "# Run the test cases\n",
        "for i, (dice_roll, expected_score) in enumerate(test_cases):\n",
        "    actual_score = yahtzee_score(dice_roll)\n",
        "    print(f\"Test Case {i + 1}:\")\n",
        "    print(\"Dice Roll:\", dice_roll)\n",
        "    print(\"Expected Score:\", expected_score)\n",
        "    print(\"Actual Score:\", actual_score)\n",
        "    print()"
      ]
    }
  ]
}