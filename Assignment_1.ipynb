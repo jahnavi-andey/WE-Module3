{
  "nbformat": 4,
  "nbformat_minor": 0,
  "metadata": {
    "colab": {
      "provenance": []
    },
    "kernelspec": {
      "name": "python3",
      "display_name": "Python 3"
    },
    "language_info": {
      "name": "python"
    }
  },
  "cells": [
    {
      "cell_type": "markdown",
      "source": [
        "Idli Distribution"
      ],
      "metadata": {
        "id": "z46OJfnMHNa4"
      }
    },
    {
      "cell_type": "code",
      "source": [
        "def distribute_idlis(idlis):\n",
        "    n = len(idlis)\n",
        "    total_needed = sum([(2 - (idli % 2)) % 2 for idli in idlis])\n",
        "\n",
        "    if total_needed % 2 != 0:\n",
        "        return -1\n",
        "\n",
        "    result = 0\n",
        "    for i in range(n):\n",
        "        if idlis[i] % 2 != 0:\n",
        "            idlis[i] += 1\n",
        "            if i < n - 1:\n",
        "                idlis[i + 1] += 1\n",
        "            else:\n",
        "                idlis[i - 1] += 1\n",
        "            result += 2\n",
        "\n",
        "    return result\n",
        "\n",
        "# Test Case 1\n",
        "idlis = [1, 3, 4, 2, 1]\n",
        "result = distribute_idlis(idlis)\n",
        "print(\"Test Case 1 - Minimum number of idlis to distribute:\", result)\n",
        "\n",
        "# Test Case 2\n",
        "idlis = [2, 2, 2, 2]\n",
        "result = distribute_idlis(idlis)\n",
        "print(\"Test Case 2 - Minimum number of idlis to distribute:\", result)\n",
        "\n",
        "# Test Case 3\n",
        "idlis = [1, 1, 1, 1, 1]\n",
        "result = distribute_idlis(idlis)\n",
        "print(\"Test Case 3 - Minimum number of idlis to distribute:\", result)\n",
        "\n",
        "# Test Case 4\n",
        "idlis = [3, 5, 7, 9]\n",
        "result = distribute_idlis(idlis)\n",
        "print(\"Test Case 4 - Minimum number of idlis to distribute:\", result)"
      ],
      "metadata": {
        "colab": {
          "base_uri": "https://localhost:8080/"
        },
        "id": "FAhtNLBWHQd8",
        "outputId": "c57796ae-6386-4923-c71d-f82bdb8d1d69"
      },
      "execution_count": null,
      "outputs": [
        {
          "output_type": "stream",
          "name": "stdout",
          "text": [
            "Test Case 1 - Minimum number of idlis to distribute: -1\n",
            "Test Case 2 - Minimum number of idlis to distribute: 0\n",
            "Test Case 3 - Minimum number of idlis to distribute: -1\n",
            "Test Case 4 - Minimum number of idlis to distribute: 4\n"
          ]
        }
      ]
    }
  ]
}